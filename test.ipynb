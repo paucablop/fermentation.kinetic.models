{
 "cells": [
  {
   "cell_type": "code",
   "execution_count": 4,
   "metadata": {},
   "outputs": [],
   "source": [
    "from abc import ABC, abstractmethod\n",
    "from dataclasses import dataclass"
   ]
  },
  {
   "cell_type": "code",
   "execution_count": 5,
   "metadata": {},
   "outputs": [],
   "source": [
    "@dataclass\n",
    "class AbstractClassExample(ABC):\n",
    "    \"\"\"\n",
    "    Abstract class example.\n",
    "    \"\"\"\n",
    "\n",
    "    attribute_1: int\n",
    "    attribute_2: int\n",
    "\n",
    "    @abstractmethod\n",
    "    def my_abstract_method(self):\n",
    "        pass\n"
   ]
  },
  {
   "cell_type": "code",
   "execution_count": 10,
   "metadata": {},
   "outputs": [],
   "source": [
    "class AddValues(AbstractClassExample):\n",
    "    \"\"\"\n",
    "    Add values example.\n",
    "    \"\"\"\n",
    "    @classmethod\n",
    "    def fromdict(cls, d: dict) -> \"AddValues\":\n",
    "        return cls(**d)\n",
    "\n",
    "    def my_abstract_method(self):\n",
    "        return self.attribute_1 + self.attribute_2"
   ]
  },
  {
   "cell_type": "code",
   "execution_count": 12,
   "metadata": {},
   "outputs": [],
   "source": [
    "x = AddValues(1, 2).my_abstract_method()\n",
    "y = AddValues.fromdict({\"attribute_1\": 1, \"attribute_2\": 2}).my_abstract_method()"
   ]
  },
  {
   "cell_type": "code",
   "execution_count": 13,
   "metadata": {},
   "outputs": [],
   "source": [
    "@dataclass\n",
    "class IMonod(ABC):\n",
    "    \"\"\"Interface for monod uptake models.\"\"\"\n",
    "\n",
    "    max_uptake_rate: float\n",
    "    affinity_constant: float\n",
    "\n",
    "    @abstractmethod\n",
    "    def calculate_rate(self, substrate_concentration: float) -> float:\n",
    "        \"\"\"Calculate the rate of uptake.\"\"\"\n",
    "        pass\n"
   ]
  },
  {
   "cell_type": "code",
   "execution_count": 3,
   "metadata": {},
   "outputs": [],
   "source": [
    "from dataclasses import dataclass\n",
    "\n",
    "class MyClass:\n",
    "  def __init__(self, wate_calvoight):\n",
    "    self.wate_calvoight = wate_calvoight\n",
    "\n",
    "\n",
    "@dataclass\n",
    "class MyOtherClass:\n",
    "  wate_calvoight: int\n",
    "\n"
   ]
  }
 ],
 "metadata": {
  "interpreter": {
   "hash": "ab13e73479013b0ce581c505acbecf3d998862ad86e5d29b85e2e473d3b389c8"
  },
  "kernelspec": {
   "display_name": "Python 3.10.4 64-bit",
   "language": "python",
   "name": "python3"
  },
  "language_info": {
   "codemirror_mode": {
    "name": "ipython",
    "version": 3
   },
   "file_extension": ".py",
   "mimetype": "text/x-python",
   "name": "python",
   "nbconvert_exporter": "python",
   "pygments_lexer": "ipython3",
   "version": "3.10.4"
  },
  "orig_nbformat": 4
 },
 "nbformat": 4,
 "nbformat_minor": 2
}
